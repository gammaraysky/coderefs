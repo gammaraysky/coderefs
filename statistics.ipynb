{
 "cells": [
  {
   "cell_type": "markdown",
   "metadata": {},
   "source": [
    "# [C1] Understanding and Visualising Data"
   ]
  },
  {
   "cell_type": "markdown",
   "metadata": {},
   "source": [
    "# 1.0 Basics"
   ]
  },
  {
   "cell_type": "markdown",
   "metadata": {},
   "source": [
    "### 1.1 Study Design\n",
    "\n",
    "- Clinical trials for drugs and other medical treatments\n",
    "- Reliability and quality-assurance studies for manufactured products\n",
    "- Observational studies for human health\n",
    "- Public opinion and other surveys\n",
    "- Studies involving administrative and other incidental data\n",
    "- Market research studies\n",
    "- Agricultural field trials\n",
    "\n",
    "### 1.2 Types of Research Studies\n",
    "\n",
    "#### Exploratory vs Confirmatory\n",
    "- **Confirmatory** - Scientific method - specify falsifiable hypothesis, then test it; collect data to address single question\n",
    "- **Exploratory** - collect and analyse data without first pre-specifying question\n",
    "\n",
    "WARNING: watch out for overfitting/multiple testing/p-hacking; the more questions you ask from a dataset, the more likely you are to draw a misleading conclusion\n",
    "\n",
    "#### Comparative vs Non-comparative\n",
    "- **Comparative** - voter preference. which ad has higher CTA. which fertiliser yields better.\n",
    "- **Non-comparative** - estimating absolute quantities, not explicitly comparative. predict company stock value 1 year from now. reduction in blood pressure after drug treatment.\n",
    "\n",
    "#### Observational vs Experimental\n",
    "- **Observational** - Arise 'naturally', contrasts based on 'self-selection' of units into groups. Often say subjects are \"exposed\" to a condition rather than being \"assigned\" (passive or self-selected, used when impractical or unethical to assign) E.g. compare lifespan, lung cancer, etc in smokers/non-smokers, observe student learning/teaching methods/student test scores\n",
    "- **Experiments** - Involve manipulation or assignment → experimenter deliberately treats different units in different ways. Often involved random assignment of subjects to \"treatment arms\". E.g. randomly assign plots of vegetables with or without fertilizer\n",
    "\n",
    "### 1.3 Power & Bias\n",
    "\n",
    "- **Power Analysis** - Process to assess whether given study design likely to yield meaningful findings. If data obtained has too little information about the question of interest, results may not be very informative.\n",
    "\n",
    "- **Bias** - Measurements that are systematically off-target, or sample is not representative of population of interest.Observational studies are especially vulnerable to bias.\n",
    "\n",
    "### 1.4 Wide Form vs Long Form Data\n",
    "- **wide form** is like excel, it's easier to read. but it at most can show 'bivariate': row variables vs col variables. slightly more convenient for data entry in studies where each subject is assessed the same number of times.\n",
    "- **long form** is ensuring each row has only 1 observation. e.g. a person's BP measured on different dates are separate rows. (whereas wide form, when we did survey, it was easier to have person's entire record as 1 row). is more flexible, as it accommodates measures obtained at arbitrary time points; the long format is also more natural for many forms of statistical analysis, such as regression analysis.\n",
    "- **Other specialized data layouts exist** for other types of data, e.g. data defined as graphs (networks of nodes and edges), images, geospatial data, or text data.\n",
    "\n",
    "### 1.5 Standard Score & Empirical Rule for Normal Distributions\n",
    "- **Empirical Rule** (aka 68-95-99.7 rule)\n",
    "\n",
    "  - $\\pm$ 1sd 68%\n",
    "  - $\\pm$ 2sd 95%\n",
    "  - $\\pm$ 3sd 99.7%\n",
    "\n",
    "- **Z-Score** - (observation - mean)/sd\n",
    "\n",
    "### 1.6 Simpson's Paradox > confounding variable > corr doesn't imply cause\n",
    "- **confounding variable** - outside influence that affects relationship between IV(predictor) and DV(outcome)\n",
    "  - may **hide/obscure/enhance** relationship\n"
   ]
  },
  {
   "cell_type": "markdown",
   "metadata": {},
   "source": [
    "## 1.7 Univariate vs Multivariate Analysis (TODO clean up)"
   ]
  },
  {
   "cell_type": "markdown",
   "metadata": {},
   "source": [
    "#### Univariate\n",
    "\n",
    "- **Quantitative** - use histogram AND boxplot AND summary stats (pd.describe())\n",
    "  - histogram gives you \n",
    "    - **shape** - symmetric, bell-shaped, left/right-skewed, unimodal/bimodal/multimodal\n",
    "    - **center** - mean or median\n",
    "    - **spread** - range, IQR, std, variance\n",
    "    - **outliers**\n",
    "  - boxplot\n",
    "    - note: hist gives you shape well, but boxplots summarise **center, spread** info better.\n",
    "  - *e.g. The distribution of salaries in San Francisco is bimodal and skewed to the right. Centered at about $80,000 with most of the data between $40,000 and $120,000. A range of roughly $600,000, and outliers are present on the higher end.*  \n",
    "- **Categorical** - tables, bar charts, pie charts (seldom recommended)\n",
    "  - bar charts - plot using counts, plot using percentages\n",
    "  - if nominal data, order doesn't matter, convenient to arrange in descending frequency order\n",
    "<br/><br/>\n",
    "#### Multivariate\n",
    "\n",
    "- **scatter/joint/hexbin/pairplot**\n",
    "  - Stratify (slice) as much as possible, e.g. looking at arm length vs leg length scatterplot, separate out gender, race, into different graphs. You might see patterns that were otherwise homogeneous as a whole.\n",
    "- **pd.crosstab(col1, col2)**\n",
    "  - use contingency/two-way tables \n",
    "  - e.g. **df.groupby(['gender','educ','marital']).size().unstack().fillna(0),apply(lambda x: x/x.sum(), axis=1)**\n",
    "    - group data into every combi of gender/edu/marital, count number in each slice, pivot the marital status into columns (unstack), fill empty with 0, normalize data by row.\n",
    "- **categorical** - use contingency tables to display, use marginal or conditional distributions, and plot data as side-by-side bar/stacked bar/mosaic plots\n",
    "- **quantitative** - use **jointplot, np.corrcoef(a,b)**, see any correlation. \n",
    "- **from scipy.stats.stats import pearsonr | pearsonr(a,b)**\n",
    "- is it +ve/-ve? is it linear/non-linear? is it simple/multiple/partial correlation? any outliers?\n"
   ]
  },
  {
   "cell_type": "code",
   "execution_count": 5,
   "metadata": {},
   "outputs": [
    {
     "ename": "SyntaxError",
     "evalue": "invalid syntax (1503170550.py, line 1)",
     "output_type": "error",
     "traceback": [
      "\u001b[0;36m  File \u001b[0;32m\"/var/folders/nv/7y864ly534s63ghxmvplx3r00000gn/T/ipykernel_20767/1503170550.py\"\u001b[0;36m, line \u001b[0;32m1\u001b[0m\n\u001b[0;31m    UNIVARIATE:\u001b[0m\n\u001b[0m               ^\u001b[0m\n\u001b[0;31mSyntaxError\u001b[0m\u001b[0;31m:\u001b[0m invalid syntax\n"
     ]
    }
   ],
   "source": [
    "# UNIVARIATE:\n",
    "# .hist\n",
    "# .box\n",
    "# .describe\n",
    "\n",
    "# .bar\n",
    "\n",
    "# MULTIVARIATE:\n",
    "# .scatter/.jointplot/hexbin/pairplot\n",
    "# pd.crosstab(a,b)\n",
    "# # make conditional tables\n",
    "# df.groupby(['gender','educ','marital']).size().unstack().fillna(0),apply(lambda x: x/x.sum(), axis=1)\n",
    "# # group data into every combi of gender/edu/marital, count number in each slice, pivot the marital status into columns (unstack), fill empty with 0, normalize data by row.\n",
    "# np.corrcoef(a,b) | from scipy.stats.stats import pearsonr; pearsonr(a,b) | df.corr() all give you same thing.\n",
    "# additionally, pearsonr returns (corrcoef, two-tailed p-value)"
   ]
  },
  {
   "cell_type": "code",
   "execution_count": 13,
   "metadata": {},
   "outputs": [
    {
     "data": {
      "text/plain": [
       "<matplotlib.legend.Legend at 0x141510280>"
      ]
     },
     "execution_count": 13,
     "metadata": {},
     "output_type": "execute_result"
    },
    {
     "data": {
      "image/png": "[encoded data removed]",
      "text/plain": [
       "<Figure size 432x288 with 2 Axes>"
      ]
     },
     "metadata": {
      "needs_background": "light"
     },
     "output_type": "display_data"
    },
    {
     "data": {
      "image/png": "[encoded data removed]",
      "text/plain": [
       "<Figure size 432x432 with 3 Axes>"
      ]
     },
     "metadata": {
      "needs_background": "light"
     },
     "output_type": "display_data"
    }
   ],
   "source": [
    "import pandas as pd\n",
    "import numpy as np\n",
    "import seaborn as sns\n",
    "import matplotlib.pyplot as plt\n",
    "import matplotlib as mpl\n",
    "from scipy.stats.stats import pearsonr\n",
    "\n",
    "cmap = mpl.cm.PiYG\n",
    "\n",
    "df = sns.load_dataset('iris')\n",
    "\n",
    "sns.heatmap(df.corr(), annot=True, cmap=cmap)\n",
    "pearsonr(df['sepal_length'],df['petal_length'])\n",
    "np.corrcoef(df['sepal_length'],df['petal_length'])\n",
    "\n",
    "r, p = pearsonr(df['sepal_length'], df['petal_length'])\n",
    "graph = sns.jointplot(data=df, x='sepal_length', y='petal_length')\n",
    "phantom, = graph.ax_joint.plot([], [], linestyle=\"\", alpha=0)\n",
    "graph.ax_joint.legend([phantom],[f'r={r:.2f}, p={p:f}'])\n",
    "\n",
    "\n"
   ]
  },
  {
   "cell_type": "markdown",
   "metadata": {},
   "source": [
    "# 2.0 Probability and Non-probability Sampling"
   ]
  },
  {
   "cell_type": "markdown",
   "metadata": {},
   "source": [
    "## 2.1 Sampling from Well-Defined Populations (TODO come back after review in later module)"
   ]
  },
  {
   "cell_type": "markdown",
   "metadata": {},
   "source": [
    "### **conduct a population census**\n",
    "- easier for smaller pop\n",
    "- how much will it cost?\n",
    "- what administrative data sources already available?\n",
    "\n",
    "### **probability sampling**\n",
    "- sampling frame: construct list of all units in population\n",
    "- determine probability of selection: for every unit on list (known and non-zero)\n",
    "- select units from list at random: with sampling rates for different subgroups determined by probabilities of selection\n",
    "- measure randomly selected units\n",
    "- *e.g. class of 10 males 20 females. a prof wishes to select a PS of 5 males 5 females.*\n",
    "- *probabilities of selection: 1 out of every 2 males selected. 1 out of every 4 females selected. (1/2, 1/4)*\n",
    "- **known probabilities** allows us to make **unbiased statements** about both **population features** and **uncertainty in surevy estimates**\n",
    "- can do CI and HT, only with PS\n",
    "\n",
    "### **non-probability sampling**\n",
    "- lots of data, but high potential for sampling bias, lack of representation for some units of population (only capture 'loudmouths' on Twitter)\n",
    "- key drawback: doesn't involve random selection (generally) > high potential for bias. sampled units not generally representative of larger population of interest\n",
    "- probabilities of selection cannot be determined for population units a priori > no statistical basis for making inference about population. \n",
    "- *e.g. opt-in web surveys, convenience sampling, snowball sampling*\n",
    "- *big data these days often from NPS. so be careful!*\n",
    "- so what can we do? two possible approaches"
   ]
  },
  {
   "cell_type": "markdown",
   "metadata": {},
   "source": [
    "## 2.2 Probability Sampling - Methods"
   ]
  },
  {
   "cell_type": "markdown",
   "metadata": {},
   "source": [
    "### **PS:simple random sampling**\n",
    "- have known list of population *N*. randomly select *n* units.\n",
    "- every unit has equal probability of selection *n/N*\n",
    "- estimates of means/proportions/totals based on SRS are **unbiased**\n",
    "- can be with or w/o replacement, typically w/o replacement for SRS (for both, probability still n/N)\n",
    "- rarely used in practice, expensive\n",
    "- in theory, SRS will generate i.i.d data for given variable. **in theory.**\n",
    "### **PS:complex probability sampling**\n",
    "- anything more complex than SRS\n",
    "- complex samples have certain key features:\n",
    "- population divided into strata\n",
    "- clusters are randomly sampled within a strata\n",
    "- units randomly sampled within cluster\n",
    "<br/><br/>\n",
    "- #### **Stratification**\n",
    "  - Proportionate allocation (e.g. 50-50% quota allocation of males-females in sample)\n",
    "  - Stratification will eliminate between-stratum variance in means or totals, from the sampling variance. Important to account for stratification in analysis, else computed sampling variance may be artificially large, thus inferences too conservative, confidence intervals too wide. (in all theoretical repeated samples, we always select 5 men 5 women. We will never have a random sample of 10 men. This reduces our variance.)<br/><br/>\n",
    "- #### **Clustering**\n",
    "  - Random sampling of laregr clusters of population elements, possibly across multiple stages (e.g. counties, then segments, then households)\n",
    "  - Reduces cost, but increases sampling variance, as units within cluster may have similar (correlated) values on variables of interest, thus we aren't measuring as much unique information.\n",
    "  - increases amount of dependence in observations collected. this lack of independence reduces our effective sample size.\n",
    "    - Important to account for clustering in analysis, else computed sampling variance may be artificially small, thus inferences too liberal, confidence intervals too narrow.<br/><br/>\n",
    "- #### **Weighting**\n",
    "  - If we have:\n",
    "    - multiple stages of cluster sampling within strata\n",
    "    - oversampling of certain subgroups\n",
    "    - there is unequal representation/probabilities of selection for different population units.\n",
    "  - Weights are the inverse of the probability of selection and used to correct.\n",
    "    - If my probability of selection is 1/100, and yours is 1/120, my datapoints represent 100 people including myself, yours represents 120 people.\n",
    "  - Weights also include probabilities of responding\n",
    "    - If my probability was 1/100, but in my subgroup only 50% responded, then my adjusted weight is 200<br/><br/>\n",
    "- **Analytic Error**\n",
    "  - failure to calculate final weighting. many secondary analyses fail to do this."
   ]
  },
  {
   "cell_type": "markdown",
   "metadata": {},
   "source": []
  },
  {
   "cell_type": "markdown",
   "metadata": {},
   "source": [
    "## 2.3 Sampling Distribution and Sampling Variance"
   ]
  },
  {
   "cell_type": "markdown",
   "metadata": {},
   "source": [
    "**How to estimate features of population based on only one PS?**\n",
    "- **Sampling Distribution** \n",
    "  - distribution of survey estimates we would see, if we selected many random samples using the same sampling design, and computed an estimate from each.\n",
    "  - **hypothetical**: (what would happen if we had luxury to draw infinite probability samples, and measure that distribution) In practice, we take 1 PS and we try to estimate this sampling distribution.\n",
    "  - generally very different in appearance from distribution of values on a single var of interest.\n",
    "  - with large enough sample size, sampling distribution of estimates will look like a normal distribution, regardless of what estimates are being computed (Central Limit Theorem CLT)\n",
    "<br/><br/>\n",
    "- **Sampling Variance**\n",
    "  - variability in the estimates described by the sampling distribution\n",
    "  - if hypothetically we drew infinite samples, using the same sampling design, and plotted those estimates, that variability is called this sampling variance.<br/><br/>\n",
    "**Sampling Error**\n",
    "  - because we only select 1 PS, a survey estimate will not be equal to population parameter. This is called **sampling error**. How much your mean/proportion/etc is off, compared to population.\n",
    "  - hypothetically if we took infinite samples and averaged them, we will have true population parameter. This is a key property that we want, and this means we have **unbiased estimates**\n",
    "  - across hypothetical repeated samples, these sampling errors will vary randomly, and that variability of these sampling errors, describes the **variance of the sampling distribution**<br/><br/>\n",
    "- with a larger sample size, (sampling more of the population), in theory, there will be less sampling error, sampling errors will be less variable. therefore sampling variance decreases as *n* increases.\n",
    "**more precise estimates, more confidence in inferential statements. but more costly.**\n",
    "<br/><br/>\n",
    "https://markkurzejaumich.shinyapps.io/multiple_population_bias/\n",
    "<br/><br/>\n",
    "- **Sampling Distribution Properties**\n",
    "  - for many common statistics: normal, symmetrical, centered at true value\n",
    "  - larger sample size >  less variability in estimates\n",
    "  - can estimate variances of these normal distributions based on only 1 PS > this enables **inference**\n",
    "<br/><br/>\n",
    "- **Standard Error**\n",
    "  - is an estimate of the standard deviation of the sampling distributions of estimates that would arise if we had drawn repeated samples, and computed the same estimate for each random sample. I.e. a standard error gives a sense of the uncertainty associated with our estimate.\n",
    "    - **variable's variance:** the more variance in the variable of interest, the more imprecise the estimates will be.\n",
    "    - **outliers** will also affect. proper descriptive stats is important.\n",
    "    - **sample size**: the larger the sample, the lesser the variability. but just because we have \"big data\" doesn't mean it was precise.\n",
    "    - **clustering**: increases amount of dependence in observations collected. this lack of independence reduces our effective sample size.\n",
    "      - same problem arises in longitudinal studies, multiple obs on 1 unit will be strongly correlated with each other, needs to be accounted for.\n",
    "      - the larger the sample size from each cluster (thus lesser clusters) will increase standard errors\n",
    "    - **stratification**: stratified samples tend to produce increased precision, because we are removing between-stratum variance from the variability within our estimates by design.\n",
    "    - **use of sampling weights** can inflate variance.\n",
    "\n"
   ]
  },
  {
   "cell_type": "markdown",
   "metadata": {},
   "source": [
    "## 2.4 Analysis method (idk why this was here. arrange later)"
   ]
  },
  {
   "cell_type": "markdown",
   "metadata": {},
   "source": [
    "- get pearsonr's to initially find any relationships.\n",
    "- then you may wish to do regression in order to actually determine the relationship (y = mx + c)\n",
    "- the larger your sample size, the less variance in your estimate. the same is true for your corr values and reg coeffs\n",
    "- with CLT, the larger your sample size, distributions of any value of interest(mean/prop/corr/reg coeff) tend towards normal"
   ]
  },
  {
   "cell_type": "markdown",
   "metadata": {},
   "source": [
    "# 3.0 Population Inferences"
   ]
  },
  {
   "cell_type": "markdown",
   "metadata": {},
   "source": [
    "- based on estimated features of sampling distributions\n",
    "- confidence interval estimates for parameters of interest: mean/prop/reg coeff/odds ratio/etc\n",
    "- hypothesis testing about parameters of interest\n",
    "<br/><br/>\n",
    "1. Compute point estimate\n",
    "2. Estimate sampling variance of the point estimate (Standard Error)\n",
    "- CI > point estimate $\\pm$ 1.96sd\n",
    "- HT > $H_0$ : could the value of the parameter be ___?\n",
    "  - is the point estimate close to null value or far away? test statistic uses the z-distance, and we get the p-value, how probable was it to get this value or more extreme? Reject H0 if probability less than our chosen significance level $\\alpha$\n",
    "  - one tailed or two tailed depending on >, <, or $\\neq$\n",
    "<br/><br/>\n",
    "Both require PS to be used. Cannot use on NPS."
   ]
  },
  {
   "cell_type": "markdown",
   "metadata": {},
   "source": [
    "## 3.2 Nonprobability Sampling - Inference Approaches"
   ]
  },
  {
   "cell_type": "markdown",
   "metadata": {},
   "source": [
    "(read REF-Inference for Nonprobability Samples 16-STS598.pdf pg 255-261)<br>\n",
    "(see for math formula refs https://byjus.com/maths/probability-and-statistics-symbols/)\n",
    "https://www.europeansurveyresearch.org/conference/non-probability\n",
    "\n",
    "\n",
    "- ### **1. Quasi/Pseudo-Randomization Approach:**\n",
    "- **1.1 Reference Surveys**\n",
    "  - **Pseudo inclusion probabilities are estimated, and used to correct for selection bias.**\n",
    "  - **Given estimates of pseudo probabilities, design-based formulas are used for point estimates and variances.**\n",
    "  - Find some other dataset that was executed with PS, and it must have similar covariates to your NPS (your NPS could have other additional columns, that's fine.)\n",
    "  - Stack datasets together, with a nps_flag=True/False if sample was from your NPS.\n",
    "  - Fit a binary regression to estimate inclusion probabilities for the NPS, as a function of all other variables (age, gender, education, ethnicity, etc)\n",
    "  - Inverse the results and you have weights for your NPS.\n",
    "  - Now you can compute: What would have been the probability of being in this stacked dataset, for an individual who showed up in the NPS, given all their features?\n",
    "  - Downside, we cannot estimate sampling variance in this way.\n",
    "  - *e.g. volunteer panel of persons is recruited to provide a pool from which sample of persons is selected. To respond to a survey,*\n",
    "    - *a person must have Internet access,*\n",
    "    - *volunteer for the panel,*\n",
    "    - *be selected for the particular survey,*\n",
    "    - *and then respond.*\n",
    "  - Standard methods can be used to compute the last two terms. \n",
    "  - The first two probabilities, having internet access and volunteering for the panel, are more difficult. \n",
    "    - Some countries have studies with probability samples that represent the full population that include questions on Internet access. (US National Health Interview Survey is one example.)\n",
    "    - The probability of volunteering is harder to estimate.<br><br>\n",
    "  \n",
    "- **1.2 Sample Matching**\n",
    "  - can be done on individual or aggregate level.\n",
    "  - **1.2.1 Individual-level matching:** for each case in a NPS volunteer sample, a matching case is found in a PS reference sample. The matches would be found based on covariates available in each dataset. It may be done based on individual covariate values, or on propensity scores (Rosenbaum and Rubin, 1983). This is an example of predictive mean matching, in which an imputation of an inclusion probability is made for each nonprobability unit.\n",
    "  - **1.2.2 Aggregate-level matching (Quota matching):** consists of making the frequency distribution of the NPS the same as that of the population. Quota sampling is an example of this. For example, age * race distribution of the sample might be controlled to be the same as that in the population. If we start with a large panel of volunteers, a subsample might be drawn to achieve this kind of distributional balance. Each person would receive the same weight, which is the same way that a proportionally allocated probability sample would be treated. Considered in this way, quota sampling falls into the quasi-randomization framework.\n",
    "  - A PS used as a reference survey or in sample matching ideally most not be subject to coverage or other types of bias. Many probability samples are subject to high non-response rates and are tantamount to nonprobability samples themselves. Poor quality reference or matching samples can lead to biased estimators of the inclusion probabilities and consequently, biased estimators from the NPS. This is an argument for using large, well-controlled samples conducted by central governments for reference or matching samples if at all possible.<br><br>\n",
    "- ### **2. Estimation using Pseudo-Weights**\n",
    "  - this approach assumes that the NPS actually does have a probability sampling mechanism, albeit one with probabilities that have to be estimated under identifying assumptions. The goal is to estimate this unknown probability of selection relying on a true PS or a censur with common variables, that explain the unknown sampling mechanism.\n",
    "  - (lost) ... regression covariates via beta regression in the PS and predicting $P (S_i = 1|x_i = x_o)$  for the NPS sample elements. The term $P (S_i = 1|x_i = x_o)$ can be obtained by logistic regression, or if high-dim data, via least absolute shrinkage and regression operator (LASSO), Bayesian additive regression trees (BART), or super learner algorithms that combine estimators from numerous model fitting methods. In some settings, the NPS will represent only a portion of the population; e.g. in a setting with binary outcome Y (injure/uninjured), only positive outcomes (injured) might be represented in the NPS... (lost) ... for variance estimation, a bootstrap or jackknife estimator should be used to incorporate both sampling variability in the estimation of the pseudo weights and in the estimation of the main quantity of interest.<br><br>\n",
    "- ### **3. Superpopulation (y-model) Approach**\n",
    "  - a statistical model is fitted for Y analysis variable from the sample, and used to project the sample to the full population. (this approach can also be used with a PS.) The difference here is that design-based inference, where the randomization distribution is under the control of the sampler, is not at option for a NPS.\n",
    "  - consider a simple case of estimating a finite population total.\n",
    "  - The general idea in model-based estimation when estimating a total, is to sum the responses for the sample cases and add to them the sum of predictions for non-sample cases. The key to forming unbiased estimates is that the variables to be analyzed for the sample and nonsample follow a common model and that this model can be discovered by analyzing the sample responses. When both sample and nonsample units follow the same model, model parameters can be estimated from the sample and used to make predictions for the non-sample cases. An appropriate model usually includes covariates, which are known for each individual sample case. The covariates may or may not be known for individual nonsample cases.\n",
    "  - For some commmon estimation methods such as post-stratification, only population totals of the covariates are required to construct the estimator, so that individual nonsample X values are unnecessary. Suppose that the mean of a variable $y_i$ follows a linear model. Given a sample $s$, an estimator of the slope parameter is ___. A prediction of the value of a unit in the set of nonsample units...\n",
    "  - In the superpopulation (y-model) approach, statis- tical properties, like bias and variance, are computed conditional on the set of sample units that is ob- served. This contrasts to the quasi-randomization ap- proach where the pseudo design-based calculations av- erage over the random appearance in the sample of units that have the same configuration of covariates ob- served in the sample. A quasi-randomization estima- tor that only uses inverse estimated inclusion probabil- ities as weights will be biased under a y-model where $E_M (y|x)$ depends on covariates. Consequently, the **y-model approach to constructing estimators can produce more precise estimators than the quasi-randomization approach alone**. \n",
    "\n",
    "\n",
    "<!-- \n",
    "- ### **2. calibration - weight your NPS to look more like a PS, and other forms of model-based adjustment**\n",
    "  - compute weights for responding units in NPS, that allow weighted sample to mirror a known population. \n",
    "  - *e.g. NPS contains 70% female, so downweight females and upweight males to get 50-50%*\n",
    "  - limitation: if weighting factor not related to variable of interest, it will not reduce sampling bias\n",
    "\n",
    "\n",
    "- ### **Population Modelling**\n",
    "  - Datasets from PS and NPS don't need the same columns. \n",
    "  - Use predictive modelling to predict aggregate sample quantities (usually totals) on key variables of interest for population units NOT included in the non-probability sample.\n",
    "  - *E.g. BRFSS, only some participants asked further questions about heart disease. But then using their figures we use regression to predict the values for everyone else.* \n",
    "-->"
   ]
  },
  {
   "cell_type": "markdown",
   "metadata": {},
   "source": [
    "# (out of context:) Probability distributions \n",
    "- https://seeing-theory.brown.edu/probability-distributions/index.html"
   ]
  },
  {
   "cell_type": "markdown",
   "metadata": {},
   "source": [
    "# [C2] Inferential Statistical Analysis\n"
   ]
  },
  {
   "cell_type": "markdown",
   "metadata": {},
   "source": [
    "## 1.0 Research Questions"
   ]
  },
  {
   "cell_type": "markdown",
   "metadata": {},
   "source": [
    "- Good research questions define exactly what needs to be executed\n",
    "  \n",
    "- **Examples**\n",
    "  - What proportion of all parents with toddlers report they use a car seat for all travel with their toddler?\n",
    "    - Estimate a Population Proportion with Confidence\n",
    "  - What is the average cartwheel distance for all adults?\n",
    "    - Estimate a Population Mean with Confidence\n",
    "  - What is the average difference in self-reported education between older twin and younger twin?\n",
    "    - Estimate a Population Mean Difference with Confidence\n",
    "  - Considering Mexican-American adults (ages 18-29) living in the United States, do males have a significantly higher mean Body Mass Index than females?\n",
    "    - Test a Theory about Two Population Means\n",
    "  - In previous years 52% of parents believed electronics and social media was cause of teenager's lack of sleep. Do more parents today believe that their teenager's lack of sleep is caused due to electronics and social media?\n",
    "    - Test a Theory about a Population Proportion\n"
   ]
  },
  {
   "cell_type": "markdown",
   "metadata": {},
   "source": [
    "# 2.0 Confidence Intervals\n",
    "https://nathancarter.github.io/how2data/site/tasks/"
   ]
  },
  {
   "cell_type": "markdown",
   "metadata": {},
   "source": [
    "## 2.1 CI - One Proportion"
   ]
  },
  {
   "cell_type": "markdown",
   "metadata": {},
   "source": [
    "- $\\hat{p} \\pm z\\sqrt{\\frac{\\hat{p}(1-\\hat{p})}{n} }$\n",
    "\n",
    "  |   |  90%  |  95%  |  98%  |  99%  | \n",
    "  |---|-------|-------|-------|-------|\n",
    "  | z | 1.645 |  1.96 | 2.326 | 2.576 |\n",
    "\n",
    "**Interpretation**\n",
    "- Range of reasonable values for our parameter\n",
    "- \"With 95% confidence, the population proportion of interest is estimated to be between (lcb , ucb)\"\n",
    "- If we repeated sampled using the same sampling design and produced a 95% CI each time, we would expect 95% of those resulting intervals to contain the population mean of interest.\n",
    "\n",
    "\n",
    "**Assumptions** \n",
    "- best estimate - simple random sample\n",
    "- large enough sample size (in order to use z-values), we need normal curve approximation. (at least 10 of each response outcome. e.g. 10 yes 10 no)\n",
    "\n",
    "\n",
    "**Conservative Approach - what if our $\\hat{p}$ is not accurate and we want to maximise the interval?**\n",
    "-  $\\hat{p} \\pm 2\\frac{1}{2\\sqrt{n}}$"
   ]
  },
  {
   "cell_type": "markdown",
   "metadata": {},
   "source": [
    "## 2.2 CI - Proportion Difference"
   ]
  },
  {
   "cell_type": "markdown",
   "metadata": {},
   "source": [
    "- $(\\hat{p}_1 - \\hat{p}_2) \\pm z\\sqrt{ \\frac{\\hat{p}_1(1-\\hat{p}_1)}{n_1} + \\frac{\\hat{p}_2(1-\\hat{p}_2)}{n_2} }$\n",
    "\n",
    "**Assumptions**\n",
    "- two independent random samples\n",
    "- large enough sample size (in order to use z-values), we need normal curve approximation. (at least 10 of each response outcome. e.g. 10 yes 10 no)\n"
   ]
  },
  {
   "cell_type": "markdown",
   "metadata": {},
   "source": [
    "## 2.3 CI - One Mean"
   ]
  },
  {
   "cell_type": "markdown",
   "metadata": {},
   "source": [
    "- $\\bar{x} \\pm t*\\frac{s}{\\sqrt{n}}$\n",
    "\n",
    "- t* multiplier comes from t-dist with $n-1$ degrees of freedom\n",
    "\n",
    "**Assumptions**\n",
    "- random sample\n",
    "- normal distribution or large enough for CLT to approximate normal (to use z-scores)\n",
    "  - check hist and qqplot"
   ]
  },
  {
   "cell_type": "markdown",
   "metadata": {},
   "source": [
    "## 2.4 CI - Mean Difference (Paired)"
   ]
  },
  {
   "cell_type": "markdown",
   "metadata": {},
   "source": [
    "- $\\bar{x}_d \\pm t*\\frac{s_d}{\\sqrt{n}}$\n",
    "\n",
    "- t* multiplier comes from t-dist with $n-1$ degrees of freedom\n",
    "\n",
    "**Assumptions**\n",
    "- random sample\n",
    "- normal distribution or large enough for CLT to approximate normal (to use z-scores)\n",
    "   - check hist and qqplot"
   ]
  },
  {
   "cell_type": "markdown",
   "metadata": {},
   "source": [
    "## 2.5 CI - Mean Difference (Indep)"
   ]
  },
  {
   "cell_type": "markdown",
   "metadata": {},
   "source": [
    "**Assumptions**\n",
    "- random sample\n",
    "- normal distribution or large enough for CLT to approximate normal (to use z-scores)\n",
    "    - check hist and qqplot\n",
    "- if std and boxplot IQR looks similar, use pooled approach. otherwise use unpooled\n",
    "\n",
    "**Pooled Approach**\n",
    "- variance of 2 populations assumed to be equal\n",
    "- $(\\bar{x}_1 - \\bar{x}_2) \\pm t* \\sqrt{\\frac{(n_1-1)s_1^2 + (n_2-1)s_2^2}{n_1+n_2-2}} \\sqrt{\\frac{1}{n_1}+\\frac{1}{n_2}}$\n",
    "- t* multiplier comes from t-dist with $n_1 + n_2 - 2$ degrees of freedom\n",
    "\n",
    "**Unpooled Approach**\n",
    "- $(\\bar{x}_1 - \\bar{x}_2) \\pm t* \\sqrt{ \\frac{s_1^2}{n_1} + \\frac{s_2^2}{n_2} }$\n",
    "- t* multiplier comes from t-dist. degrees of freedom found by using Welch's approximation (software does this)\n",
    "- If unavailable, conservative approach is use the smaller $n-1$ , i.e. $df=min(n_1-1,n_2-1)$\n"
   ]
  },
  {
   "cell_type": "markdown",
   "metadata": {},
   "source": [
    "## 2.6 CI - One Variance\n",
    "## 2.7 CI - Ratio of Two Population Variances\n",
    "## 2.8 CI - Regression Coefficient"
   ]
  },
  {
   "cell_type": "code",
   "execution_count": null,
   "metadata": {},
   "outputs": [],
   "source": [
    "#### CI - ONE VARIANCE ####\n",
    "# Load in EuStockMarkets data\n",
    "from rdatasets import data\n",
    "import pandas as pd\n",
    "df = data('EuStockMarkets')\n",
    "# Select the column for Germany's DAX closing prices\n",
    "sample = df['DAX']\n",
    "\n",
    "from scipy import stats\n",
    "# Find the critical values from the right and left tails of the Chi-square distribution\n",
    "alpha = 0.05       # replace with your chosen alpha (here, a 95% confidence level)\n",
    "n = len( sample )\n",
    "left_critical_val = stats.chi2.ppf(1-alpha/2, df=n-1)\n",
    "right_critical_val = stats.chi2.ppf(alpha/2, df=n-1)\n",
    "\n",
    "# Find the upper and lower bounds of the confidence interval and print them out\n",
    "lower_bound = ((n - 1)*sample.var())/left_critical_val\n",
    "upper_bound = ((n - 1)*sample.var())/right_critical_val\n",
    "lower_bound, upper_bound\n",
    "#### CI - ONE VARIANCE ####\n",
    "\n",
    "\n",
    "#### CI - RATIO OF TWO VARIANCES ####\n",
    "from rdatasets import data\n",
    "import pandas as pd\n",
    "\n",
    "# Load in the EuStockMarkets data and convert to a DataFrame\n",
    "EuStockMarkets = data('EuStockMarkets')\n",
    "df = pd.DataFrame(EuStockMarkets[['DAX', 'CAC']])\n",
    "\n",
    "# Our two samples are its DAX and CAC columns\n",
    "sample1 = df['DAX'].tolist()\n",
    "sample2 = df['CAC'].tolist()\n",
    "# The degrees of freedom in each sample is its length minus 1\n",
    "sample1_df = len(sample1) - 1\n",
    "sample2_df = len(sample2) - 1\n",
    "\n",
    "# Compute the ratio of the variances\n",
    "import statistics\n",
    "ratio = statistics.variance(sample1) / statistics.variance(sample2)\n",
    "\n",
    "# Find the critical values from the F-distribution\n",
    "from scipy import stats\n",
    "alpha = 0.05       # replace with your chosen alpha (here, a 95% confidence level)\n",
    "lower_critical_value = 1 / stats.f.ppf(q = 1 - alpha/2, dfn = sample1_df, dfd = sample2_df)\n",
    "upper_critical_value = stats.f.ppf(q = 1 - alpha/2, dfn = sample2_df, dfd = sample1_df)\n",
    "\n",
    "# Compute the confidence interval\n",
    "lower_bound = ratio * lower_critical_value\n",
    "upper_bound = ratio * upper_critical_value\n",
    "lower_bound, upper_bound\n",
    "#### CI - RATIO OF TWO VARIANCES ####\n",
    "\n",
    "\n",
    "#### CI - REGRESSION COEFFICIENT ####\n",
    "import statsmodels.api as sm\n",
    "\n",
    "xs = [  34,   9,  78,  60,  22,  45,  83,  59,  25 ]\n",
    "ys = [ 126, 347, 298, 309, 450, 187, 266, 385, 400 ]\n",
    "\n",
    "xs = sm.add_constant( xs )\n",
    "model = sm.OLS( ys, xs )\n",
    "results = model.fit()\n",
    "results.conf_int( alpha=0.05 )\n",
    "#### CI - REGRESSION COEFFICIENT ####"
   ]
  },
  {
   "cell_type": "markdown",
   "metadata": {},
   "source": []
  },
  {
   "cell_type": "markdown",
   "metadata": {},
   "source": [
    "# 00 Confidence Intervals"
   ]
  },
  {
   "cell_type": "markdown",
   "metadata": {},
   "source": [
    "#### quick ref z-table for common values. only for proportion, means use t distribution.\n",
    "|   |  90%  |  95%  |  98%  |  99%  | \n",
    "|---|-------|-------|-------|-------|\n",
    "| z | 1.645 |  1.96 | 2.326 | 2.576 |\n",
    "\n",
    "\n",
    "### **CI - one proportion**\n",
    "- **Assumptions** \n",
    "  - best estimate - simple random sample\n",
    "  - large enough sample size (in order to use z-values), we need normal curve approximation. (at least 10 of each response outcome. e.g. 10 yes 10 no)\n",
    "\n",
    "  $\\hat{p} \\pm z\\sqrt{\\frac{\\hat{p}(1-\\hat{p})}{n} }$\n",
    "  --\n",
    "\n",
    "  conservative, when we unsure of point estimate accuracy, and therefore want to maximise interval\n",
    "\n",
    "  $\\hat{p} \\pm 2\\frac{1}{2\\sqrt{n}}$\n",
    "  --\n",
    "\n",
    "\n",
    "### **CI - proportion difference**\n",
    "- **Assumptions**\n",
    "  - two independent random samples\n",
    "  - large enough sample size (in order to use z-values), we need normal curve approximation. (at least 10 of each response outcome. e.g. 10 yes 10 no)\n",
    "\n",
    "  $(\\hat{p}_1 - \\hat{p}_2) \\pm z\\sqrt{ \\frac{\\hat{p}_1(1-\\hat{p}_1)}{n_1} + \\frac{\\hat{p}_2(1-\\hat{p}_2)}{n_2} }$\n",
    "  --\n",
    "  \n",
    "\n",
    "### **CI - one mean**\n",
    "- **Assumptions**\n",
    "  - random sample\n",
    "  - normal distribution or large enough for CLT to approximate normal (to use z-scores)\n",
    "    - check hist and qqplot\n",
    "\n",
    "  $\\bar{x} \\pm t^* \\frac{s}{\\sqrt{n}}$\n",
    "  --\n",
    "\n",
    "  t* multiplier comes from t-dist with $n-1$ degrees of freedom\n",
    "\n",
    "\n",
    "\n",
    "### **CI - mean difference (paired)**\n",
    "- **Assumptions**\n",
    "  - random sample\n",
    "  - independent\n",
    "  - normal distribution or large enough for CLT to approximate normal (to use z-scores)\n",
    "     - check hist and qqplot\n",
    "  \n",
    "  $\\bar{x}_d \\pm t^* \\frac{s_d}{\\sqrt{n}}$\n",
    "  --\n",
    "\n",
    "  t* multiplier comes from t-dist with $n-1$ degrees of freedom\n",
    "\n",
    "\n",
    "\n",
    "### **CI - mean difference (independent)**\n",
    "- **Assumptions**\n",
    "  - random sample\n",
    "  - normal distribution or large enough for CLT to approximate normal (to use z-scores)\n",
    "      - check hist and qqplot\n",
    "  - if std and boxplot IQR looks similar, use pooled approach. otherwise use unpooled\n",
    "<br/><br/>\n",
    "- **Pooled Approach**\n",
    "  - variance of 2 populations assumed to be equal\n",
    "  \n",
    "  $(\\bar{x}_1 - \\bar{x}_2) \\pm t^* \\sqrt{\\frac{(n_1-1)s_1^2 + (n_2-1)s_2^2}{n_1+n_2-2}} \\sqrt{\\frac{1}{n_1}+\\frac{1}{n_2}}$\n",
    "  --\n",
    "  - t* multiplier comes from t-dist with $n_1 + n_2 - 2$ degrees of freedom\n",
    "<br/><br/>\n",
    "- **Unpooled Approach**\n",
    "  \n",
    "  $(\\bar{x}_1 - \\bar{x}_2) \\pm t^* \\sqrt{ \\frac{s_1^2}{n_1} + \\frac{s_2^2}{n_2} }$\n",
    "  --\n",
    "  - t* multiplier comes from t-dist. degrees of freedom found by using Welch's approximation (ttest_ind does this)\n",
    "    - from scipy import stats\n",
    "    - stats.ttest_ind( data1, data2, equal_var=[True|False], alternative = ['two-sided'|'greater'|'less'])\n",
    "  - If unavailable, conservative approach is use the smaller $n-1$ , i.e. $df=min(n_1-1,n_2-1)$\n",
    "\n"
   ]
  },
  {
   "cell_type": "markdown",
   "metadata": {},
   "source": [
    "# 00 Hypothesis Tests"
   ]
  },
  {
   "cell_type": "markdown",
   "metadata": {},
   "source": [
    "### **HT - one proportion**\n",
    "- **Check Assumptions**\n",
    "  - random sample\n",
    "  - large enough sample size, at least 10 of each outcome.\n",
    "    - we don't know true p. so we will use pseudo-p, $p_0$\n",
    "\n",
    "- **Setup Test**\n",
    "  - $H_0 : p = 0.5$\n",
    "  - $H_\\alpha : p <, >, \\neq 0.5$\n",
    "  \n",
    "  z test statistic = (best estimate - hypothesized estimate) / standard error of estimate\n",
    "\n",
    "  z test statistic = $\\frac{\\hat{p}-p_0}{se(\\hat{p})}$ , where $se(\\hat{p}) = \\sqrt{\\frac{p_0(1-p_0)}{n}}$\n",
    "  --\n",
    "\n",
    "\n",
    "### **HT - proportion difference**\n",
    "\n",
    "### **HT - one mean**\n",
    "\n",
    "### **HT - mean difference (paired)**\n",
    "\n",
    "### **HT - mean difference (independent)**\n"
   ]
  },
  {
   "cell_type": "markdown",
   "metadata": {},
   "source": [
    "# 00 CI and HT helper methods"
   ]
  },
  {
   "cell_type": "code",
   "execution_count": 267,
   "metadata": {},
   "outputs": [
    {
     "name": "stdout",
     "output_type": "stream",
     "text": [
      "(0.8506507092860044, 0.9493492907139957)\n"
     ]
    },
    {
     "data": {
      "text/plain": [
       "(0.8506507092860044, 0.9493492907139957)"
      ]
     },
     "execution_count": 267,
     "metadata": {},
     "output_type": "execute_result"
    }
   ],
   "source": [
    "#### CONFIDENCE INTERVALS AND HYPOTHESIS TESTS ####\n",
    "############### HANAFI HAFFIDZ ####################\n",
    "from scipy import stats\n",
    "import numpy as np\n",
    "import statsmodels.api as sm\n",
    "import scipy.stats.distributions as dist\n",
    "from statsmodels.stats.proportion import proportion_confint\n",
    "\n",
    "#### ASSUMPTIONS ####\n",
    "# for one proportion / proportion difference\n",
    "# - random sample\n",
    "# - large enough sample size, at least 10 of each outcome\n",
    "\n",
    "# for one mean\n",
    "# - random sample\n",
    "# - large enough sample size for CLT to approx normal, or normal distribution of variable of interest\n",
    "#   - check with histogram and qqplot\n",
    "\n",
    "# for mean difference (paired)\n",
    "# - random sample\n",
    "# - large enough sample size for CLT to approx normal, or normal distribution of variable of interest\n",
    "#   - check with histogram and qqplot\n",
    "\n",
    "# for mean difference (indep)\n",
    "# - random sample\n",
    "# - independent\n",
    "# - large enough sample size for CLT to approx normal, or normal distribution of variable of interest\n",
    "#   - check with histogram and qqplot\n",
    "# - checking pooled or unpooled approach\n",
    "#   - compare sd, boxplot IQRs, if similar, can use pooled (default: unpooled)\n",
    "#### ASSUMPTIONS ####\n",
    "\n",
    "\n",
    "# ci_prop(n, sample_prop, alpha=0.05)\n",
    "# ci_propdiff(n1, n2, sample_prop1, sample_prop2, alpha=0.05)\n",
    "# ci_mean(data, alpha=0.05)\n",
    "# ci_meandiffpaired(data1, data2, alpha=0.05)\n",
    "# ci_meandiffindep(data1, data2, pooled=False, alpha=0.05)\n",
    "\n",
    "# ht_prop(n, sample_prop, hyp_prop, alt='two-sided', alpha=0.05)\n",
    "# ht_propdiff(n1, n2, sample_prop1, sample_prop2, hyp_diff=0, alt='two-sided', alpha=0.05)\n",
    "# ht_mean(data, hyp_mean, alt='two-sided', alpha=0.05)\n",
    "# ht_meandiffpaired(data1, data2, hyp_diff=0, alt='two-sided', alpha=0.05)\n",
    "# ht_meandiffindep(data1, data2, hyp_diff=0, alt='two-sided', pooled=False, alpha=0.05)\n",
    "\n",
    "\n",
    "def ci_prop(n, sample_prop, alpha=0.05):\n",
    "    # n             - sample size, int\n",
    "    # sample_prop   - sample proportion, float (0,1)\n",
    "    # alpha         - significance level. 0.05 for 95% CI\n",
    "    # RETURNS (lower bound, upper bound)\n",
    "    p = sample_prop\n",
    "    se_est = np.sqrt((p*(1-p))/(n))\n",
    "    z = stats.norm.ppf(1-alpha/2)\n",
    "    moe = z * se_est\n",
    "    lcb = sample_prop-moe\n",
    "    ucb = sample_prop+moe\n",
    "    print( proportion_confint(sample_prop*n, n, alpha=alpha, method='normal') )\n",
    "    return lcb, ucb\n",
    "\n",
    "def ci_propdiff(n1, n2, sample_prop1, sample_prop2, alpha=0.05):\n",
    "    p1 = sample_prop1\n",
    "    p2 = sample_prop2\n",
    "    se1_est = np.sqrt(p1*(1-p1)/n1)\n",
    "    se2_est = np.sqrt(p2*(1-p2)/n2)\n",
    "    se_diff_est = np.sqrt(se1_est**2 + se2_est**2)\n",
    "    z = stats.norm.ppf(1-alpha/2)\n",
    "    moe = z * se_diff_est\n",
    "    ucb = (p1 - p2) + moe\n",
    "    lcb = (p1 - p2) - moe\n",
    "    return lcb, ucb\n",
    "\n",
    "def ci_mean(data, alpha=0.05):\n",
    "    # stats.t.interval(alpha=0.95, loc=np.mean(data), df=len(data)-1, scale=stats.sem(data)) \n",
    "    # compared, works accurate\n",
    "\n",
    "    n = len(data)\n",
    "    dof = n-1\n",
    "    sample_mean = np.mean( data )\n",
    "    sd = np.std( data , ddof=1)\n",
    "    tstar = stats.t.ppf(1-alpha/2, dof)\n",
    "    se_est = sd / np.sqrt(n) # se = stats.sem( data ) # both work\n",
    "    moe = tstar * se_est\n",
    "    lcb = sample_mean-moe\n",
    "    ucb = sample_mean+moe\n",
    "    return lcb, ucb\n",
    "\n",
    "def ci_meandiffpaired(data1, data2, alpha=0.05):\n",
    "    data1 = np.array(data1)\n",
    "    data2 = np.array(data2)\n",
    "    \n",
    "    diff_samples = data1 - data2                        \n",
    "    n = len(data1)  \n",
    "\n",
    "    diff_mean = np.mean(diff_samples)\n",
    "    diff_sd = np.std(diff_samples, ddof=1)                       \n",
    "    \n",
    "    tstar = stats.t.ppf(q = 1-alpha/2, df = n - 1)   \n",
    "    moe = tstar * diff_sd/np.sqrt(n)\n",
    "    lcb = diff_mean - moe\n",
    "    ucb = diff_mean + moe\n",
    "    return lcb, ucb\n",
    "\n",
    "def ci_meandiffindep(data1, data2, pooled=False, alpha=0.05):\n",
    "    data1 = np.array(data1)\n",
    "    data2 = np.array(data2)\n",
    "    n1 = len(data1)\n",
    "    n2 = len(data2)\n",
    "    sd1 = np.std(data1) \n",
    "    sd2 = np.std(data2)\n",
    "    sample_mean1 = np.mean(data1)\n",
    "    sample_mean2 = np.mean(data2)\n",
    "    sample_mean_diff = sample_mean1 - sample_mean2\n",
    "    se_est=0\n",
    "    tstar=0\n",
    "    dof=0\n",
    "   \n",
    "    if pooled==True:\n",
    "        dof=n1+n2-2\n",
    "        se_est = np.sqrt( ( (n1-1)*(sd1**2) + (n2-1)*(sd2**2)  ) / dof ) * np.sqrt(1/n1 + 1/n2)\n",
    "    else:\n",
    "        # for unpooled, this does not use Welch's t-test, but conservative approach on dof:\n",
    "        dof=np.min([n1-1,n2-1]) # conservative dof.\n",
    "        # Welch-Satterthwaite equation to approximate dof \n",
    "        dof = ( sd1**2/n1 + sd2**2/n2 )**2 / ( ( sd1**4/(n1**2*(n1-1)) + sd2**4/(n2**2*(n2-1)) )  ) \n",
    "\n",
    "        se_est = np.sqrt( (sd1**2)/n1 +(sd2**2)/n2 )\n",
    "\n",
    "    # # my version, when using unpooled approach, does not use Welch to find dof, \n",
    "    # # but uses conservative approach of choosing the smaller n-1 of the two samples.\n",
    "    # # thus, printing ttest_ind version too for backup.\n",
    "    # t, pv = stats.ttest_ind( data1, data2, equal_var=pooled, alternative = 'two-sided')\n",
    "    # # doesn't work. totally diff value\n",
    "\n",
    "    tstar = stats.t.ppf(q = 1-alpha/2, df = dof)   \n",
    "    \n",
    "    moe = tstar * se_est\n",
    "    lcb = sample_mean_diff - moe\n",
    "    ucb = sample_mean_diff + moe\n",
    "    return lcb, ucb\n",
    "\n",
    "def ht_prop(n, sample_prop, hyp_prop, alt='two-sided', alpha=0.05):\n",
    "    # n             - sample size, int\n",
    "    # sample_prop   - sample proportion, float (0,1)\n",
    "    # hyp_prop      - null value, float (0,1)\n",
    "    # alt          - {'smaller','larger','two-sided'}\n",
    "    # alpha         - significance level. 0.05 for 95% CI\n",
    "    # RETURNS (z_test_stat, p_value, reject_h0)\n",
    "    p = sample_prop\n",
    "    se_est = np.sqrt((p*(1-p))/(n))\n",
    "    ztest_stat = (p - hyp_prop)/se_est\n",
    "\n",
    "    if (alt=='two-sided'):\n",
    "        pval = 2*stats.norm.cdf(-abs(ztest_stat))\n",
    "        # pval = 2*stats.norm.sf(abs(ztest_stat))  # two-tailed p-value\n",
    "    elif (alt=='smaller' or alt=='less'):\n",
    "        pval = stats.norm.cdf(ztest_stat)\n",
    "        # pval = stats.norm.sf(abs(ztest_stat))    # right-tailed p-value\n",
    "    elif (alt=='larger' or alt=='greater' ):\n",
    "        pval = stats.norm.cdf(-ztest_stat)\n",
    "        # pval = stats.norm.sf(-ztest_stat)        # left-tailed p-value\n",
    "    else:\n",
    "        print('Error\\nUsage: ht_prop(n, sample_prop, hyp_prop, alt=\\'two-sided\\', alpha=0.05)')\n",
    "        return False\n",
    "\n",
    "    # DEBUG\n",
    "    ztest_stat2, pval2 = sm.stats.proportions_ztest(sample_prop * n, n, hyp_prop, alternative=alt, prop_var=hyp_prop)\n",
    "    ztest_stat2, pval2 = sm.stats.proportions_ztest(sample_prop * n, n, hyp_prop, alternative=alt, prop_var=None)\n",
    "    print(ztest_stat2, pval2)\n",
    "\n",
    "    reject_h0 = pval < alpha\n",
    "    return ztest_stat, pval, reject_h0\n",
    "\n",
    "def ht_propdiff(n1, n2, sample_prop1, sample_prop2, hyp_diff=0, alt='two-sided', alpha=0.05):\n",
    "    # n1, n2         - sample size, int\n",
    "    # sample_prop1,2 - sample proportion, float (0,1)\n",
    "    # hyp_prop       - null value, float (0,1)\n",
    "    # alt            - {'smaller','larger','two-sided'}\n",
    "    # alpha          - significance level. 0.05 for 95% CI\n",
    "\n",
    "    # equation will be treated as sample_prop1 - sample_prop2\n",
    "    # RETURNS (z_test_stat, p_value, reject_h0)\n",
    "\n",
    "    p1 = sample_prop1\n",
    "    p2 = sample_prop2\n",
    "\n",
    "    # combined population proportion estimate, variance, stderr\n",
    "    phat = (p1*n1 + p2*n2) / (n1 + n2)\n",
    "    va = phat * (1 - phat)\n",
    "    se  = np.sqrt(va * (1/n1 + 1/n2)) # as per Umich course\n",
    "    # TODO check formula, this looks like unpooled:\n",
    "    se2 = np.sqrt(p1*(1-p1)/n1 + p2*(1-p2)/n2) # found online, formula seems slightly diff, looks like unpooled \n",
    "\n",
    "    # Test statistic and its p-value\n",
    "    ztest_stat  = ((p1 - p2)- hyp_diff) / se \n",
    "    test_stat2 = ((p1 - p2) - hyp_diff)/ se2\n",
    "    \n",
    "    #pval = 2*dist.norm.cdf(-np.abs(test_stat))\n",
    "\n",
    "    if (alt=='two-sided'):\n",
    "        pval = 2*stats.norm.cdf(-abs(ztest_stat))  # two-tailed p-value\n",
    "    elif (alt=='smaller' or alt=='less'):\n",
    "        pval = stats.norm.cdf(ztest_stat)    # right-tailed p-value\n",
    "    elif (alt=='larger' or alt=='greater' ):\n",
    "        pval = stats.norm.cdf(-ztest_stat)        # left-tailed p-value\n",
    "    else:\n",
    "        print('Error\\nUsage: ht_propdiff(n1, n2, sample_prop1, sample_prop2, hyp_diff=0, alt=\\'two-sided\\', alpha=0.05)')\n",
    "        return False\n",
    "\n",
    "    reject_h0 = pval < alpha\n",
    "    return ztest_stat, pval, reject_h0\n",
    "\n",
    "def ht_mean(data, hyp_mean, alt='two-sided', alpha=0.05):\n",
    "    test_stat, p_val = stats.ttest_1samp( data, hyp_mean , alternative=alt) # online method\n",
    "    print(test_stat, p_val)\n",
    "\n",
    "    n = len(data)\n",
    "    dof = n-1\n",
    "    sample_mean = np.mean( data )\n",
    "    sd = np.std( data , ddof=1)\n",
    "\n",
    "    se_est = sd / np.sqrt(n) # se = stats.sem( data ) # both work \n",
    "    # se_population = pop_sd / np.sqrt(n) # if pop sd is known, use this\n",
    "\n",
    "    ttest_stat = (sample_mean - hyp_mean)/se_est\n",
    "\n",
    "    if (alt=='two-sided'):\n",
    "        pval = 2*stats.t.cdf(-abs(ttest_stat),dof)\n",
    "    elif (alt=='smaller' or alt=='less'):\n",
    "        pval = stats.t.cdf(ttest_stat,dof)  # left\n",
    "    elif (alt=='larger' or alt=='greater' ):\n",
    "        pval = stats.t.cdf(-ttest_stat,dof) # right\n",
    "    else:\n",
    "        print('Error\\nUsage: ht_mean(data, hyp_mean, alt=\\'two-sided/smaller/larger\\', alpha=0.05)')\n",
    "        return False\n",
    "\n",
    "    reject_H0 = pval < alpha\n",
    "    return ttest_stat, pval, reject_H0\n",
    "\n",
    "def ht_meandiffpaired(data1, data2, hyp_diff=0, alt='two-sided', alpha=0.05):\n",
    "\n",
    "    data1 = np.array(data1)\n",
    "    data2 = np.array(data2)\n",
    "    tstat, pval = stats.ttest_rel(data1, data2, alternative = alt)\n",
    "    print(tstat, pval)\n",
    "\n",
    "    diff_samples = data1 - data2                        \n",
    "    n = len(data1)\n",
    "    dof=n-1  \n",
    "\n",
    "    diff_mean = np.mean(diff_samples)\n",
    "    diff_sd = np.std(diff_samples, ddof=1)      \n",
    "    se_est = diff_sd / np.sqrt(n)                 \n",
    "    \n",
    "    ttest_stat = (diff_mean - hyp_diff)/se_est\n",
    "\n",
    "    if (alt=='two-sided'):\n",
    "        pval = 2*stats.t.cdf(-abs(ttest_stat),dof)\n",
    "    elif (alt=='smaller' or alt=='less'):\n",
    "        pval = stats.t.cdf(ttest_stat,dof)  # left\n",
    "    elif (alt=='larger' or alt=='greater' ):\n",
    "        pval = stats.t.cdf(-ttest_stat,dof) # right\n",
    "    else:\n",
    "        print('Error\\nUsage: ht_meandiffpaired(data1, data2, hyp_diff=0, alt=\\'two-sided\\', alpha=0.05)')\n",
    "        return False\n",
    "\n",
    "    reject_H0 = pval < alpha\n",
    "    return ttest_stat, pval, reject_H0\n",
    "    \n",
    "def ht_meandiffindep(data1, data2, hyp_diff=0, alt='two-sided', pooled=False, alpha=0.05):\n",
    "    data1 = np.array(data1)\n",
    "    data2 = np.array(data2)\n",
    "    n1 = len(data1)\n",
    "    n2 = len(data2)\n",
    "    sd1 = np.std(data1, ddof=1) \n",
    "    sd2 = np.std(data2, ddof=1)\n",
    "    sample_mean1 = np.mean(data1)\n",
    "    sample_mean2 = np.mean(data2)\n",
    "    sample_mean_diff = sample_mean1 - sample_mean2\n",
    "\n",
    "    se_est=0\n",
    "    dof=0\n",
    "    if pooled==True:\n",
    "        dof=n1+n2-2\n",
    "        se_est = np.sqrt( ( (n1-1)*(sd1**2) + (n2-1)*(sd2**2)  ) / dof ) * np.sqrt(1/n1 + 1/n2)\n",
    "    else:\n",
    "        # for unpooled, this does not use Welch's t-test, but conservative approach on dof:\n",
    "        dof=np.min([n1-1,n2-1])\n",
    "        # Welch-Satterthwaite equation to approximate dof \n",
    "        dof = ( sd1**2/n1 + sd2**2/n2 )**2 / ( ( sd1**4/(n1**2*(n1-1)) + sd2**4/(n2**2*(n2-1)) )  ) \n",
    "\n",
    "        se_est = np.sqrt( (sd1**2)/n1 +(sd2**2)/n2 )\n",
    "    \n",
    "    ttest_stat = (sample_mean_diff - hyp_diff)/se_est\n",
    "    if (alt=='two-sided'):\n",
    "        pval = 2*stats.t.cdf(-abs(ttest_stat),dof)\n",
    "        # DEBUG\n",
    "        t, pv = stats.ttest_ind( data1, data2, equal_var=pooled, alternative = alt)\n",
    "    elif (alt=='smaller' or alt=='less'):\n",
    "        pval = stats.t.cdf(ttest_stat,dof)  # left\n",
    "        # DEBUG\n",
    "        t, pv = stats.ttest_ind( data1, data2, equal_var=pooled, alternative = 'less')\n",
    "    elif (alt=='larger' or alt=='greater' ):\n",
    "        pval = stats.t.cdf(-ttest_stat,dof) # right\n",
    "        # DEBUG\n",
    "        t, pv = stats.ttest_ind( data1, data2, equal_var=pooled, alternative = 'greater')\n",
    "    else:\n",
    "        print('Error\\nUsage: ht_meandiffpaired(data1, data2, hyp_diff=0, alt=\\'two-sided\\', alpha=0.05)')\n",
    "        return False\n",
    "\n",
    "    # print(t,pv)\n",
    "    # compared, accurate.\n",
    "    reject_H0 = pval < alpha\n",
    "    return ttest_stat, pval, reject_H0\n",
    "\n",
    "\n",
    "\n",
    "# ci_prop               ACCURATE    from statsmodels.stats.proportion import proportion_confint\n",
    "# ht_prop               ACCURATE    import statsmodels.api as sm, sm.stats.proportions_ztest\n",
    "# ci_propdiff           no_compare\n",
    "# ht_propdiff           no_compare\n",
    "# ci_mean               no_compare\n",
    "# ht_mean               ACCURATE    from scipy import stats, stats.ttest_1samp\n",
    "# ci_meandiffpaired     no_compare\n",
    "# ht_meandiffpaired     ACCURATE    from scipy import stats, stats.ttest_rel\n",
    "# ci_meandiffindep      no_compare    \n",
    "# ht_meandiffindep      ACCURATE    from scipy import stats, stats.ttest_ind\n",
    "\n",
    "\n",
    "data1 = [10,2,9,24,25,3]\n",
    "data2 = [1,2,3,4,5,6]\n",
    "data3 = np.random.normal(0,1,10000)\n",
    "data4 = np.random.normal(1,1,10000)\n",
    "\n",
    "\n",
    "# ci_prop(200,0.9,0.02)\n",
    "# ht_prop(200,0.9,0.7,'larger')\n",
    "# ci_propdiff(200,100,0.7,0.9)\n",
    "# ht_propdiff(200,100,0.7,0.9,0,'larger')\n",
    "# ci_mean(data3)\n",
    "# ht_mean(data3,.03)\n",
    "# ci_meandiffpaired(data2,data1)\n",
    "# ht_meandiffpaired(data2,data1,0)\n",
    "\n",
    "# ci_meandiffindep(data2,data1,pooled=False)\n",
    "# ht_meandiffindep(data2,data1,pooled=False,alt='less')\n",
    "# ht_prop(200,0.9,0.8,'two-sided',0.05)\n",
    "\n",
    "#ht_propdiff\n"
   ]
  },
  {
   "cell_type": "markdown",
   "metadata": {},
   "source": []
  },
  {
   "cell_type": "markdown",
   "metadata": {},
   "source": [
    "## Bayesian Framework"
   ]
  },
  {
   "cell_type": "markdown",
   "metadata": {},
   "source": [
    "In the field of statistics, there are two frameworks: Frequentist and Bayesian. Within this course we are primarily looking at frequentist statistics. Most of the things you'll learn will have adaptations/extensions for Bayesian statistics.\n",
    "\n",
    "**Example 1**<br>\n",
    "- What team won the 2018 World Cup? [I answered Germany]\n",
    "- Can you give a probability of how correct you think your answer is? [I answered 20%, I think it may be amongst the 5 countries that could've won] (Anyway the answer was France.)\n",
    "\n",
    "The number you just gave, is only allowed in Bayesian Statistics.\n",
    "\n",
    "In frequentist statistics, because the game has already been played, we already know the answer. Your answer was either correct or wrong. Either 0% or 100%. Any number you assign in between can only be given in the Bayesian framework.\n",
    "\n",
    "In frequentist statistics, probabilities are made of the world. So whether something is actually correct or incorrect.\n",
    "In Bayesian statistics, probabilities are made in your mind.\n",
    "In either case, before the game is played, you can go through and make a number of probability calculations.\n",
    "Suppose you know there are 211 teams eligible for the World Cup. So each team starts with 1/211 chance of winning.\n",
    "\n",
    "Maybe you are good at recognising flags, so you can recognise the 32 teams in the Finals from the picture. So each team had a 1/32 chance of winning.\n",
    "However you might also know that Germany tends to do fairly well. So maybe you upweight their probability. Then lower the weights on the other teams. You can adjust.\n",
    "In frequentist statistics, this is allowed before the game, but not after the game.\n",
    "In Bayesian statistics, you can continue to do so, as long as you don't know the answer.\n",
    "\n",
    "**Example 2**<br>\n",
    "Two bags. <br>\n",
    "Bag A: 2 silver chocolates.<br>\n",
    "Bag B: 1 silver, 1 purple. <br>\n",
    "\n",
    "Randomly pick a bag, randomly pick a chocolate.<br>\n",
    "We got a silver chocolate.<br>\n",
    "There was 2 of 2 ways to get a silver from Bag A<br>\n",
    "There was 1 of 2 ways to get a silver from Bag B<br>\n",
    "\n",
    "In Bayesian statistics, I use updated information to decide.<br>\n",
    "So in Bayesian:<br>\n",
    "There's a 2/3 chance of getting a silver chocolate from Bag A<br>\n",
    "There's a 1/3 chance of getting a silver chocolate from Bag B<br>\n",
    "\n",
    "In frequentist:<br>\n",
    "I have 2 bags. It is 50% likely to be either Bag A or B.<br>\n",
    "\n",
    "This illustrates 2 main points about Bayesian:<br>\n",
    "Probabilities are made in your mind, rather than in the world<br>\n",
    "You can update your probabilities as you get new information. E.g. knowing i drew a silver gives me additional information and I update the probability of how likely this bag is to be A.\n",
    "\n",
    "In the statistics community, there is a contentious debate between frequentist and Bayesian. \n",
    "Maybe you can see where you weigh in on that.\n"
   ]
  },
  {
   "cell_type": "markdown",
   "metadata": {},
   "source": [
    "## -"
   ]
  },
  {
   "cell_type": "markdown",
   "metadata": {},
   "source": [
    "## -"
   ]
  },
  {
   "cell_type": "markdown",
   "metadata": {},
   "source": [
    "## -"
   ]
  },
  {
   "cell_type": "markdown",
   "metadata": {},
   "source": [
    "## -"
   ]
  },
  {
   "cell_type": "markdown",
   "metadata": {},
   "source": [
    "## -"
   ]
  },
  {
   "cell_type": "markdown",
   "metadata": {},
   "source": [
    "## -"
   ]
  },
  {
   "cell_type": "markdown",
   "metadata": {},
   "source": [
    "## -"
   ]
  },
  {
   "cell_type": "code",
   "execution_count": null,
   "metadata": {},
   "outputs": [],
   "source": []
  }
 ],
 "metadata": {
  "kernelspec": {
   "display_name": "Python 3.9.7 64-bit ('3.9.7')",
   "language": "python",
   "name": "python3"
  },
  "language_info": {
   "codemirror_mode": {
    "name": "ipython",
    "version": 3
   },
   "file_extension": ".py",
   "mimetype": "text/x-python",
   "name": "python",
   "nbconvert_exporter": "python",
   "pygments_lexer": "ipython3",
   "version": "3.9.7"
  },
  "orig_nbformat": 4,
  "vscode": {
   "interpreter": {
    "hash": "364c89992cbb243c9b7fb25f5821ba12ec045cfc59e2d16ecb33c4abed2e1685"
   }
  }
 },
 "nbformat": 4,
 "nbformat_minor": 2
}
