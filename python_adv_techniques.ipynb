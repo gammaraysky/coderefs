{
 "cells": [
  {
   "cell_type": "markdown",
   "metadata": {},
   "source": [
    "https://www.youtube.com/playlist?list=PLlrxD0HtieHhS8VzuMCfQD4uJ9yne1mE6"
   ]
  },
  {
   "cell_type": "markdown",
   "metadata": {},
   "source": [
    "# Error Handling"
   ]
  },
  {
   "cell_type": "markdown",
   "metadata": {},
   "source": [
    "### Types of Errors\n",
    "- **syntax errors** : code won't run at all\n",
    "  - if we could choose, this is the kind of errors we want to have. they show themselves to you, easy to track down.\n",
    "- **runtime errors** : code runs, something goes wrong, it blows up\n",
    "  - e.g. division by zero error. also easy to trace.\n",
    "- **logic errors** : everything runs, but we don't get the right response\n",
    "  - e.g. mistyped '>' for '<'\n",
    "  - this is the most annoying, or it could go into production unnoticed."
   ]
  },
  {
   "cell_type": "markdown",
   "metadata": {},
   "source": [
    "- you don't have to catch all errors. if you are not going to do anything about it, if you are not managing it so that application will exit gracefully, etc, leave it. cos if you were catching it, then spitting out a generic error message, some other dev using your code will have their debugging impossible because they can't trace the error, and see what the original error message is.\n",
    "- let it bubble up\n",
    "- someone else will deal with it\n",
    "- the application will crash, sometimes this is exactly what you want to happen."
   ]
  },
  {
   "cell_type": "markdown",
   "metadata": {},
   "source": [
    "### Try Except Else Finally"
   ]
  },
  {
   "cell_type": "code",
   "execution_count": 10,
   "metadata": {},
   "outputs": [],
   "source": [
    "log = []\n",
    "def divide(x,y):\n",
    "    try:\n",
    "        #? some code\n",
    "        print(x/y)\n",
    "    except ZeroDivisionError as e:\n",
    "        #? handling of specific exception\n",
    "\n",
    "        # optionally log e somewhere\n",
    "        log.append(e)\n",
    "        print('division by zero detected')\n",
    "    except:\n",
    "        #? handling of exception\n",
    "        print('error occurred')\n",
    "    else:\n",
    "        #? execute if no exception\n",
    "        print('code ran successfully')\n",
    "    finally:\n",
    "        #? always executed\n",
    "        print('end')"
   ]
  },
  {
   "cell_type": "code",
   "execution_count": 13,
   "metadata": {},
   "outputs": [
    {
     "name": "stdout",
     "output_type": "stream",
     "text": [
      "0.0\n",
      "code ran successfully\n",
      "end\n"
     ]
    }
   ],
   "source": [
    "divide(0,1)"
   ]
  },
  {
   "cell_type": "markdown",
   "metadata": {},
   "source": [
    "# Raise exception"
   ]
  },
  {
   "cell_type": "markdown",
   "metadata": {},
   "source": [
    "- The raise keyword is used to raise an exception.\n",
    "- You can define what kind of error to raise, and the text to print to the user."
   ]
  },
  {
   "cell_type": "code",
   "execution_count": null,
   "metadata": {},
   "outputs": [
    {
     "ename": "ZeroDivisionError",
     "evalue": "Only integers are allowed",
     "output_type": "error",
     "traceback": [
      "\u001b[1;31m---------------------------------------------------------------------------\u001b[0m\n",
      "\u001b[1;31mZeroDivisionError\u001b[0m                         Traceback (most recent call last)\n",
      "\u001b[1;32mUntitled-1.ipynb Cell 26\u001b[0m in \u001b[0;36m<module>\u001b[1;34m\u001b[0m\n",
      "\u001b[0;32m      <a href='vscode-notebook-cell:Untitled-1.ipynb?jupyter-notebook#X35sdW50aXRsZWQ%3D?line=0'>1</a>\u001b[0m x \u001b[39m=\u001b[39m \u001b[39m\"\u001b[39m\u001b[39mhello\u001b[39m\u001b[39m\"\u001b[39m\n",
      "\u001b[0;32m      <a href='vscode-notebook-cell:Untitled-1.ipynb?jupyter-notebook#X35sdW50aXRsZWQ%3D?line=2'>3</a>\u001b[0m \u001b[39mif\u001b[39;00m \u001b[39mnot\u001b[39;00m \u001b[39mtype\u001b[39m(x) \u001b[39mis\u001b[39;00m \u001b[39mint\u001b[39m:\n",
      "\u001b[0;32m      <a href='vscode-notebook-cell:Untitled-1.ipynb?jupyter-notebook#X35sdW50aXRsZWQ%3D?line=3'>4</a>\u001b[0m   \u001b[39m# raise TypeError(\"Only integers are allowed\") \u001b[39;00m\n",
      "\u001b[1;32m----> <a href='vscode-notebook-cell:Untitled-1.ipynb?jupyter-notebook#X35sdW50aXRsZWQ%3D?line=4'>5</a>\u001b[0m   \u001b[39mraise\u001b[39;00m \u001b[39mZeroDivisionError\u001b[39;00m(\u001b[39m\"\u001b[39m\u001b[39mOnly integers are allowed\u001b[39m\u001b[39m\"\u001b[39m)\n",
      "\n",
      "\u001b[1;31mZeroDivisionError\u001b[0m: Only integers are allowed"
     ]
    }
   ],
   "source": [
    "x = \"hello\"\n",
    "\n",
    "if not type(x) is int:\n",
    "  # raise TypeError(\"Only integers are allowed\") \n",
    "  raise ZeroDivisionError(\"Only integers are allowed\") \n",
    "  #? zero division error above doesn't actually make sense. just illustrating.\n",
    "  "
   ]
  },
  {
   "cell_type": "markdown",
   "metadata": {},
   "source": [
    "# Static Typing"
   ]
  },
  {
   "cell_type": "markdown",
   "metadata": {},
   "source": [
    "- problem with dynamic typing in python is you might not spot errors in your code, and it may even be missed during unit testing.\n",
    "- by static typing in method declarations, we might catch errors.\n",
    "- https://medium.com/@ageitgey/learn-how-to-use-static-type-checking-in-python-3-6-in-10-minutes-12c86d72677b"
   ]
  },
  {
   "cell_type": "code",
   "execution_count": null,
   "metadata": {},
   "outputs": [],
   "source": [
    "mystr : str = 'some words'\n",
    "myint : int = 2\n",
    "\n",
    "# for more complex dtypes:\n",
    "from typing import Dict, List, Tuple\n",
    "\n",
    "mydict: Dict[str, int] = {\n",
    "    \"beef\" : 10,\n",
    "    \"pork\" : 7\n",
    "}\n",
    "\n",
    "mylist : List[int] = [1,2,3,4]\n",
    "\n",
    "listofdicts: List[Dict[str,int]] = [\n",
    "    {'key1' : 1},\n",
    "    {'key2' : 2},\n",
    "]\n",
    "\n",
    "mytuple: Tuple[str, int, float] = (\"abc\", 10, 5.7)\n",
    "\n",
    "lat_lng_vector = List[Tuple[float, float]]\n",
    "\n",
    "points: lat_lng_vector = [\n",
    "    (25.91375, -60.15503),\n",
    "    (-11.01983, -166.48477),\n",
    "    (-11.01983, -166.48477)\n",
    "]\n",
    "\n",
    "# Sometimes your Python functions might be flexible enough to handle several different types or work on any data type. You can use the Union type to declare a function that can accept multiple types and you can use Any to accept anything.\n",
    "\n",
    "# Python 3.6 also supports some of the fancy typing stuff you might have seen in other programming languages like generic types and custom user-defined types.\n",
    "\n",
    "\n",
    "\n",
    "#? Running the Type Checker\n",
    "# While Python 3.6 gives you this syntax for declaring types, there’s absolutely nothing in Python itself yet that does anything with these type declarations. To actually enforce type checking, you need to do one of two things:\n",
    "\n",
    "# Download the open-source mypy type checker and run it as part of your unit tests or development workflow.\n",
    "    \n",
    "# Use PyCharm which has built-in type checking in the IDE. Or if you use another editor like Atom, download it’s own type checking plug-in.\n"
   ]
  },
  {
   "cell_type": "markdown",
   "metadata": {},
   "source": [
    "# Return Value Annotation"
   ]
  },
  {
   "cell_type": "markdown",
   "metadata": {},
   "source": [
    "- python doesn't actually do anything with it.\n",
    "- just a shorthand way of documenting without full docstrings, what your function will return."
   ]
  },
  {
   "cell_type": "markdown",
   "metadata": {},
   "source": [
    "- here, expect Stat.calmin() to return None by default\n",
    "- expect FeatureScale.linear_scale to return a Series."
   ]
  },
  {
   "cell_type": "code",
   "execution_count": 15,
   "metadata": {},
   "outputs": [],
   "source": [
    "import pandas as pd\n",
    "\n",
    "class Stat:\n",
    "    def calmin(self, feature:pd.Series) -> None:\n",
    "        return feature.min()\n",
    "    def calmax(self, feature:pd.Series) -> None:\n",
    "        return feature.max()\n",
    "\n",
    "class FeatureScale(Stat):\n",
    "    def __init__(self, min: float=0) -> None:\n",
    "        self.min = min\n",
    "        self.max = None\n",
    "        min = 'a'\n",
    "        if min is None:\n",
    "            print('indicate min')\n",
    "        else:\n",
    "            print('success')\n",
    "    \n",
    "    def linear_scale(self, feature: pd.Series) ->pd.Series:\n",
    "        self.min = self.calmin(feature)\n",
    "        self.max = self.calmax(feature)\n",
    "        scaled_feature = (feature - self.min) / (self.max - self.min)\n",
    "        return scaled_feature\n",
    "        "
   ]
  },
  {
   "cell_type": "markdown",
   "metadata": {},
   "source": [
    "# *args, *kwargs"
   ]
  },
  {
   "cell_type": "code",
   "execution_count": 17,
   "metadata": {},
   "outputs": [
    {
     "name": "stdout",
     "output_type": "stream",
     "text": [
      "(1, 5)\n"
     ]
    }
   ],
   "source": [
    "# sum_integers_args.py\n",
    "def my_sum(a:str, *args):\n",
    "    result = 0\n",
    "    # Iterating over the Python args tuple\n",
    "    for x in args:\n",
    "        result += x\n",
    "    return a, result\n",
    "\n",
    "print(my_sum(1, 2, 3))\n"
   ]
  },
  {
   "cell_type": "markdown",
   "metadata": {},
   "source": [
    "Okay, now you’ve understood what *args is for, but what about **kwargs? **kwargs works just like *args, but instead of accepting positional arguments it accepts keyword (or named) arguments. Take the following example:"
   ]
  },
  {
   "cell_type": "code",
   "execution_count": 19,
   "metadata": {},
   "outputs": [
    {
     "name": "stdout",
     "output_type": "stream",
     "text": [
      "('abcde', 'RealPythonIsGreat!')\n"
     ]
    }
   ],
   "source": [
    "# concatenate.py\n",
    "def concatenate(**kwargs):\n",
    "    result = \"\"\n",
    "    keynames = \"\"\n",
    "    # Iterating over the Python kwargs dictionary\n",
    "    for keys, arg in zip(kwargs.keys(), kwargs.values()):\n",
    "        keynames += keys\n",
    "        result += arg\n",
    "    return keynames, result\n",
    "\n",
    "print(concatenate(a=\"Real\", b=\"Python\", c=\"Is\", d=\"Great\", e=\"!\"))\n"
   ]
  },
  {
   "cell_type": "markdown",
   "metadata": {},
   "source": [
    "- you don't need to use *args and **kwargs. they can take any variable name, *asdf or **defg. the key thing is the unpacking operators * or **. \n",
    "  - *args is passed in as a tuple. \n",
    "  - **kwargs is passed in as a dict"
   ]
  },
  {
   "cell_type": "markdown",
   "metadata": {},
   "source": [
    "# @decorators"
   ]
  },
  {
   "cell_type": "markdown",
   "metadata": {},
   "source": [
    "- where objects are like nouns, and methods are like verbs, think of decorators as adjectives. they give additional functionality or context.\n",
    "- seldom need to create your own. typically in a framework like Flask, e.g.:"
   ]
  },
  {
   "cell_type": "code",
   "execution_count": null,
   "metadata": {},
   "outputs": [],
   "source": [
    "# snippet from Flask:\n",
    "# when user visits doors.sg/products\n",
    "@route('/products')\n",
    "def get_products():\n",
    "    # code to serve user products list\n",
    "    pass"
   ]
  },
  {
   "cell_type": "code",
   "execution_count": 26,
   "metadata": {},
   "outputs": [
    {
     "name": "stdout",
     "output_type": "stream",
     "text": [
      "Logging execution of this function:\n",
      "--inside sample()\n",
      "Run complete\n"
     ]
    }
   ],
   "source": [
    "def logger(func):\n",
    "    def wrapper():\n",
    "        print('Logging execution of this function:')\n",
    "        func()\n",
    "        print('Run complete')\n",
    "    return wrapper\n",
    "\n",
    "@logger\n",
    "def sample():\n",
    "    print('--inside sample()')\n",
    "    \n",
    "\n",
    "sample()"
   ]
  },
  {
   "cell_type": "markdown",
   "metadata": {},
   "source": [
    "# Classes"
   ]
  },
  {
   "cell_type": "code",
   "execution_count": 40,
   "metadata": {},
   "outputs": [
    {
     "name": "stdout",
     "output_type": "stream",
     "text": [
      "25 80 160 han haff\n"
     ]
    },
    {
     "data": {
      "text/plain": [
       "<__main__.Person at 0x12186c4d640>"
      ]
     },
     "execution_count": 40,
     "metadata": {},
     "output_type": "execute_result"
    }
   ],
   "source": [
    "class Person:\n",
    "    # Constructors are generally used for instantiating an object. The task of constructors is to initialize(assign values) to the data members of the class when an object of the class is created. In Python the __init__() method is called the constructor and is always called when an object is created.\n",
    "    def __init__(self,age,weight,height,fname,lname):\n",
    "        self.age    = age\n",
    "        self.weight = weight\n",
    "        self.height = height\n",
    "        self.fname  = fname\n",
    "        self.lname  = lname\n",
    "    def __str__(self):\n",
    "        return \"{} {} {} {} {}\".format(self.age, self.weight, self.height, self.fname, self.lname)\n",
    "\n",
    "    # Destructors are called when an object gets destroyed. In Python, destructors are not needed as much as in C++ because Python has a garbage collector that handles memory management automatically. \n",
    "    # The __del__() method is a known as a destructor method in Python. It is called when all references to the object have been deleted i.e when an object is garbage collected. \n",
    "    def __del__(self):\n",
    "        # body of destructor\n",
    "        pass\n",
    "    \n",
    "\n",
    "user = Person(25,80,160,'han','haff')\n",
    "print(user)\n",
    "user"
   ]
  },
  {
   "cell_type": "markdown",
   "metadata": {},
   "source": [
    "### Inheritance: \n",
    "- https://www.geeksforgeeks.org/inheritance-in-python/?ref=lbp\n",
    "\n",
    "### Encapsulation\n",
    "- Encapsulation is one of the fundamental concepts in object-oriented programming (OOP). It describes the idea of wrapping data and the methods that work on data within one unit. This puts restrictions on accessing variables and methods directly and can prevent the accidental modification of data. To prevent accidental change, an object’s variable can only be changed by an object’s method. Those types of variables are known as private variables.\n",
    "- https://www.geeksforgeeks.org/encapsulation-in-python/?ref=lbp\n",
    "- protected members, private members, \n",
    "  - convention to use Person._a, Person.__b respectively.\n",
    "  - Although the protected variable can be accessed out of the class as well as in the derived class(modified too in derived class), it is customary(convention not a rule) to not access the protected out the class body.\n",
    "  - Private members are similar to protected members, the difference is that the class members declared private should neither be accessed outside the class nor by any base class. In Python, there is no existence of Private instance variables that cannot be accessed except inside a class.\n",
    "  - Note: Python’s private and protected members can be accessed outside the class through python name mangling. https://www.geeksforgeeks.org/private-variables-python/"
   ]
  },
  {
   "cell_type": "code",
   "execution_count": 46,
   "metadata": {},
   "outputs": [
    {
     "name": "stdout",
     "output_type": "stream",
     "text": [
      "initiating value:  base\n",
      "modifying value:  modified\n",
      "Accessing protected member of derived object:  modified\n",
      "Accessing protected member of base object:  base\n"
     ]
    }
   ],
   "source": [
    "# Python program to\n",
    "# demonstrate protected members\n",
    " \n",
    "# Creating a base class\n",
    "class Base:\n",
    "    def __init__(self):\n",
    "         # Protected member\n",
    "        self._a = 'base'\n",
    " \n",
    "# Creating a derived class\n",
    "class Derived(Base):\n",
    "    def __init__(self):\n",
    "         # Calling constructor of Base class\n",
    "        Base.__init__(self)\n",
    "        print(\"initiating value: \", self._a)\n",
    " \n",
    "        # Modify the protected variable:\n",
    "        self._a = 'modified'\n",
    "        print(\"modifying value: \", self._a)\n",
    " \n",
    " \n",
    "derived = Derived()\n",
    "base = Base()\n",
    " \n",
    "# Calling protected member\n",
    "# Can be accessed but should not be done due to convention\n",
    "print(\"Accessing protected member of derived object: \", derived._a)\n",
    " \n",
    "# Accessing the protected variable outside\n",
    "print(\"Accessing protected member of base object: \", base._a)"
   ]
  },
  {
   "cell_type": "markdown",
   "metadata": {},
   "source": [
    "unit tests\n",
    "test driven development\n",
    "classes\n",
    "\n",
    "object oriented python\n"
   ]
  }
 ],
 "metadata": {
  "kernelspec": {
   "display_name": "Python 3.9.7 ('python')",
   "language": "python",
   "name": "python3"
  },
  "language_info": {
   "codemirror_mode": {
    "name": "ipython",
    "version": 3
   },
   "file_extension": ".py",
   "mimetype": "text/x-python",
   "name": "python",
   "nbconvert_exporter": "python",
   "pygments_lexer": "ipython3",
   "version": "3.9.7"
  },
  "orig_nbformat": 4,
  "vscode": {
   "interpreter": {
    "hash": "481cec52f7d095282728c60bb70d451310b560bc752e0d5557e6790a59f74331"
   }
  }
 },
 "nbformat": 4,
 "nbformat_minor": 2
}
