{
 "cells": [
  {
   "cell_type": "code",
   "execution_count": 38,
   "metadata": {},
   "outputs": [
    {
     "name": "stdout",
     "output_type": "stream",
     "text": [
      "ax[0,0].set_position([0.0600, 0.5300, 0.4340, 0.4100])\n",
      "ax[0,1].set_position([0.5600, 0.5300, 0.4340, 0.4100])\n",
      "ax[1,0].set_position([0.0600, 0.0300, 0.4340, 0.4100])\n",
      "ax[1,1].set_position([0.5600, 0.0300, 0.4340, 0.4100])\n"
     ]
    },
    {
     "data": {
      "image/png": "[encoded data removed]",
      "text/plain": [
       "<Figure size 576x576 with 4 Axes>"
      ]
     },
     "metadata": {
      "needs_background": "light"
     },
     "output_type": "display_data"
    }
   ],
   "source": [
    "# Set here\n",
    "numrows = 2\n",
    "numcols = 2\n",
    "spacemultiplier = 1.2\n",
    "\n",
    "\n",
    "import matplotlib.pyplot as plt\n",
    "\n",
    "fig = plt.figure(figsize=(8,8), constrained_layout=True)\n",
    "axs = fig.subplots(numrows,numcols)\n",
    "\n",
    "def layoutcalc(numrows,numcols,left=0.05,top=0.05,right=0.005,bottom=0.025,spacemultiplier=1.0):\n",
    "    # LAYOUT CALCULATOR, returns set_position calculations\n",
    "    # specify margin left bottom top right, or use defaults.\n",
    "\n",
    "    left   = left   * spacemultiplier\n",
    "    right  = right  * spacemultiplier\n",
    "    top    = top    * spacemultiplier\n",
    "    bottom = bottom * spacemultiplier\n",
    "\n",
    "    cellheight = (1 / numrows) - (top + bottom)\n",
    "    cellwidth = (1 / numcols) - (left + right)\n",
    "\n",
    "\n",
    "    for i in range(numrows):\n",
    "        curr_bottom = bottom + ((numrows-1)-i)*(top+cellheight+bottom)\n",
    "        for j in range(numcols):\n",
    "            curr_left = left + (j)*(left+cellwidth+right)\n",
    "    \n",
    "            print(f'ax[{i},{j}].set_position([{curr_left:.4f}, {curr_bottom:.4f}, {cellwidth:.4f}, {cellheight:.4f}])')\n",
    "            axs[i,j].set_position([curr_left, curr_bottom, cellwidth, cellheight])\n",
    "            axs[i,j].set_title(f'axs[{i},{j}]')\n",
    "            \n",
    "\n",
    "\n",
    "layoutcalc(numrows,numcols, spacemultiplier=spacemultiplier)\n",
    "\n",
    "\n"
   ]
  },
  {
   "cell_type": "code",
   "execution_count": null,
   "metadata": {},
   "outputs": [],
   "source": []
  }
 ],
 "metadata": {
  "kernelspec": {
   "display_name": "Python 3.9.7 64-bit ('3.9.7')",
   "language": "python",
   "name": "python3"
  },
  "language_info": {
   "codemirror_mode": {
    "name": "ipython",
    "version": 3
   },
   "file_extension": ".py",
   "mimetype": "text/x-python",
   "name": "python",
   "nbconvert_exporter": "python",
   "pygments_lexer": "ipython3",
   "version": "3.9.7"
  },
  "orig_nbformat": 4,
  "vscode": {
   "interpreter": {
    "hash": "364c89992cbb243c9b7fb25f5821ba12ec045cfc59e2d16ecb33c4abed2e1685"
   }
  }
 },
 "nbformat": 4,
 "nbformat_minor": 2
}
