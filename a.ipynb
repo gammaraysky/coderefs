{
 "cells": [
  {
   "cell_type": "code",
   "execution_count": 2,
   "metadata": {
    "tags": []
   },
   "outputs": [
    {
     "name": "stdout",
     "output_type": "stream",
     "text": [
      "\u001b[34mML textbooks\u001b[m\u001b[m       _output.png        \u001b[34massignment3\u001b[m\u001b[m        \u001b[34mimages\u001b[m\u001b[m\n",
      "README.md          \u001b[34massignment1\u001b[m\u001b[m        conda.yml          pca-components.png\n",
      "Untitled.ipynb     \u001b[34massignment2\u001b[m\u001b[m        conda_all.yml\n"
     ]
    }
   ],
   "source": [
    "!ls"
   ]
  },
  {
   "cell_type": "code",
   "execution_count": 3,
   "id": "49b5509a",
   "metadata": {},
   "outputs": [
    {
     "name": "stdout",
     "output_type": "stream",
     "text": [
      "dumb\n"
     ]
    }
   ],
   "source": [
    "print('dumb')"
   ]
  },
  {
   "cell_type": "code",
   "execution_count": null,
   "id": "9ce9f488",
   "metadata": {},
   "outputs": [],
   "source": []
  },
  {
   "attachments": {},
   "cell_type": "markdown",
   "id": "253b3b43",
   "metadata": {},
   "source": [
    "```{toggle}\n",
    "hide some content in ehre\n",
    "```"
   ]
  }
 ],
 "metadata": {
  "kernelspec": {
   "display_name": "py310",
   "language": "python",
   "name": "python3"
  },
  "language_info": {
   "codemirror_mode": {
    "name": "ipython",
    "version": 3
   },
   "file_extension": ".py",
   "mimetype": "text/x-python",
   "name": "python",
   "nbconvert_exporter": "python",
   "pygments_lexer": "ipython3",
   "version": "3.10.8"
  },
  "vscode": {
   "interpreter": {
    "hash": "65e42a98c4cd90bd6e278f564ca308fb310f993d483c5293e1e4a09c193775a3"
   }
  }
 },
 "nbformat": 4,
 "nbformat_minor": 5
}
